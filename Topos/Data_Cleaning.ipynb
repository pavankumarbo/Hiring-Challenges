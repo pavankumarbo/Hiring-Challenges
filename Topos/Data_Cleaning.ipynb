{
 "cells": [
  {
   "cell_type": "code",
   "execution_count": 1,
   "metadata": {},
   "outputs": [],
   "source": [
    "import pandas as pd\n",
    "import numpy as np\n",
    "\n",
    "import seaborn as sns\n",
    "import matplotlib.pyplot as plt\n",
    "\n",
    "import re"
   ]
  },
  {
   "cell_type": "code",
   "execution_count": 2,
   "metadata": {},
   "outputs": [
    {
     "name": "stdout",
     "output_type": "stream",
     "text": [
      "DOB_Permit_Issuance.csv\r\n",
      "Data_Cleaning.ipynb\r\n",
      "Derived Data.ipynb\r\n",
      "EDA.ipynb\r\n",
      "NY Building Data Worksheet.twb\r\n",
      "Pavan_Kumar_Boinapalli_Data_Science_Report.docx\r\n",
      "data_cleaned.csv\r\n",
      "data_derived.csv\r\n",
      "nyc_cd_population.csv\r\n",
      "nyc_population.csv.csv\r\n",
      "~$van_Kumar_Boinapalli_Data_Science_Report.docx\r\n"
     ]
    }
   ],
   "source": [
    "!ls"
   ]
  },
  {
   "cell_type": "code",
   "execution_count": 3,
   "metadata": {},
   "outputs": [
    {
     "name": "stderr",
     "output_type": "stream",
     "text": [
      "/Users/pavankumarboinapalli/DSWorkspace/ProgramFiles/anaconda3/lib/python3.7/site-packages/IPython/core/interactiveshell.py:2785: DtypeWarning: Columns (1,8,9,10,15,25,31,33,34,35,36,51,52) have mixed types. Specify dtype option on import or set low_memory=False.\n",
      "  interactivity=interactivity, compiler=compiler, result=result)\n"
     ]
    }
   ],
   "source": [
    "data = pd.read_csv(\"DOB_Permit_Issuance.csv\")"
   ]
  },
  {
   "cell_type": "code",
   "execution_count": 4,
   "metadata": {},
   "outputs": [
    {
     "data": {
      "text/plain": [
       "(3508249, 60)"
      ]
     },
     "execution_count": 4,
     "metadata": {},
     "output_type": "execute_result"
    }
   ],
   "source": [
    "data.shape"
   ]
  },
  {
   "cell_type": "code",
   "execution_count": 5,
   "metadata": {},
   "outputs": [],
   "source": [
    "data_cleaned = data.copy()"
   ]
  },
  {
   "cell_type": "markdown",
   "metadata": {},
   "source": [
    "## Removing columns with More than 85% Missing Values"
   ]
  },
  {
   "cell_type": "code",
   "execution_count": 6,
   "metadata": {},
   "outputs": [
    {
     "name": "stdout",
     "output_type": "stream",
     "text": [
      "dropped columns with more than 85% missing values['Site Safety Mgr Business Name' \"Site Safety Mgr's First Name\"\n",
      " \"Site Safety Mgr's Last Name\" 'HIC License' 'Oil Gas'\n",
      " 'Special District 2' \"Permittee's Other Title\" 'Special District 1']\n"
     ]
    }
   ],
   "source": [
    "na_df = pd.DataFrame(np.round(data.isna().sum()*100/data.shape[0],2)).sort_values(0,ascending=False)\n",
    "na_cols_to_remove = na_df[na_df[0]>85].index.values\n",
    "\n",
    "for col_to_remove in na_cols_to_remove:\n",
    "    data_cleaned.drop(col_to_remove,axis=1,inplace=True)\n",
    "    data_cleaned.reset_index().drop('index',axis=1,inplace=True)\n",
    "print(\"dropped columns with more than 85% missing values{}\".format(na_cols_to_remove))"
   ]
  },
  {
   "cell_type": "code",
   "execution_count": 7,
   "metadata": {},
   "outputs": [
    {
     "data": {
      "text/plain": [
       "Index(['BOROUGH', 'Bin #', 'House #', 'Street Name', 'Job Type', 'Self_Cert',\n",
       "       'Block', 'Lot', 'Community Board', 'Residential', 'Work Type',\n",
       "       'Permit Status', 'Filing Status', 'Permit Type', 'Permit Subtype',\n",
       "       'Site Fill', 'Filing Date', 'Issuance Date', 'Expiration Date',\n",
       "       'Job Start Date', 'Permittee's First Name', 'Permittee's Last Name',\n",
       "       'Permittee's Business Name', 'Permittee's Phone #',\n",
       "       'Permittee's License Type', 'Permittee's License #',\n",
       "       'Act as Superintendent', 'Superintendent First & Last Name',\n",
       "       'Superintendent Business Name', 'Owner's Business Type', 'Non-Profit',\n",
       "       'Owner's Business Name', 'Owner's First Name', 'Owner's Last Name',\n",
       "       'Owner's House #', 'Owner's House Street Name', 'Owner’s House City',\n",
       "       'Owner’s House State', 'Owner’s House Zip Code', 'Owner's Phone #',\n",
       "       'DOBRunDate', 'NTA_NAME'],\n",
       "      dtype='object')"
      ]
     },
     "execution_count": 7,
     "metadata": {},
     "output_type": "execute_result"
    }
   ],
   "source": [
    "data_cleaned.select_dtypes('O').columns"
   ]
  },
  {
   "cell_type": "code",
   "execution_count": 8,
   "metadata": {},
   "outputs": [],
   "source": [
    "num_cols = [\"Bin #\",\"Job #\",\"Job doc. #\",\"Block\",\"Lot\",\"PERMIT_SI_NO\",\"Permit Sequence #\",\"Community Board\"]\n",
    "cell_no_cols = [\"Owner's Phone #\",\"Permittee's Phone #\"]\n",
    "zip_cols = [\"Owner’s House Zip Code\",\"Zip Code\"]\n",
    "float_cols = ['Bldg Type','COUNCIL_DISTRICT','CENSUS_TRACT','Permittee\\'s License #']\n",
    "date_cols = ['DOBRunDate','Job Start Date','Issuance Date','Expiration Date','Filing Date']\n",
    "bool_cols = ['Self_Cert','Act as Superintendent','Non-Profit']"
   ]
  },
  {
   "cell_type": "code",
   "execution_count": 9,
   "metadata": {},
   "outputs": [],
   "source": [
    "def clean_numeric_columns(df,int_cols,float_cols,cell_no_cols,zip_cols):\n",
    "    data_to_clean = df.copy()\n",
    "    \n",
    "    def is_illegal_number_drop(x):\n",
    "        return (not all(char.isdigit() for char in str(x).strip()))\n",
    "    \n",
    "    def is_illegal_number(x):\n",
    "        return re.match('^[0-9]+(\\.0+)?$',str(x).strip())==None\n",
    "        \n",
    "    \n",
    "    def is_illegal_phone_num(x):\n",
    "        if len(x)==10:\n",
    "            return re.match('^[0-9]+$',str(x).strip())==None\n",
    "        elif len(x)>=10:\n",
    "            return re.match('^[0-9]+(\\.0+)?$',str(x).strip())==None\n",
    "        else:\n",
    "            return True\n",
    "    \n",
    "    def is_llegal_zip(x):\n",
    "        if len(x)==5:\n",
    "            return re.match('^[0-9]+$',str(x).strip())==None\n",
    "        elif len(x)==7:\n",
    "            return re.match('^[0-9]+(\\.0+)?$',x)==None\n",
    "        else:\n",
    "            return True\n",
    "\n",
    "    \n",
    "    for col in int_cols:\n",
    "        illegal_nums = data_to_clean[col].astype('str').apply(lambda x: is_illegal_number(x))\n",
    "        illegal_row_index = np.where(illegal_nums.values)[0]\n",
    "        data_to_clean.loc[illegal_row_index,col] = np.nan\n",
    "        print('Replaced {} illegal values of \\'{}\\' column with Nan'.format(len(illegal_row_index),col))\n",
    "        data_to_clean[col].fillna(0,inplace=True)\n",
    "        data_to_clean[col] = data_to_clean[col].astype('int')\n",
    "        \n",
    "    for col in float_cols:\n",
    "        illegal_floats = data_to_clean[col].astype('str').apply(lambda x: is_illegal_number(x))\n",
    "        illegal_row_index = np.where(illegal_floats.values)[0]\n",
    "        data_to_clean.loc[illegal_row_index,col] = np.nan\n",
    "        print('Replaced {} illegal values of \\'{}\\' column with Nan'.format(len(illegal_row_index),col))\n",
    "        data_to_clean[col].fillna(0,inplace=True)\n",
    "        data_to_clean[col] = data_to_clean[col].astype('int')\n",
    "        \n",
    "    for col in cell_no_cols:\n",
    "        illegal_cell_nums = data_to_clean[col].astype('str').apply(lambda x: is_illegal_phone_num(x))\n",
    "        illegal_row_index = np.where(illegal_cell_nums.values)[0]\n",
    "        data_to_clean.loc[illegal_row_index,col] = np.nan\n",
    "        data_to_clean[col].fillna(0,inplace=True)\n",
    "        print('Replaced {} illegal values of \\'{}\\' column with Nan'.format(len(illegal_row_index),col))\n",
    "        data_to_clean[col] = data_to_clean[col].astype('int')\n",
    "        \n",
    "    for col in zip_cols:\n",
    "        illegal_zips = data_to_clean[col].astype('str').apply(lambda x: is_llegal_zip(x))\n",
    "        illegal_row_index = np.where(illegal_zips.values)[0]\n",
    "        data_to_clean.loc[illegal_row_index,col] = np.nan\n",
    "        print('Replaced {} illegal values of \\'{}\\' column with Nan'.format(len(illegal_row_index),col))\n",
    "        data_to_clean[col].fillna(0,inplace=True)\n",
    "        data_to_clean[col] = data_to_clean[col].astype('int')\n",
    "        \n",
    "    data_cleaned = data_to_clean.copy()\n",
    "        \n",
    "    return data_cleaned\n",
    "    "
   ]
  },
  {
   "cell_type": "code",
   "execution_count": 10,
   "metadata": {},
   "outputs": [],
   "source": [
    "def clean_bool_cols(df,bool_cols):\n",
    "    data_to_clean = df.copy()\n",
    "    def clean_bool_value(x):\n",
    "        if x in ['Y','y','YES','Yes']:\n",
    "            return 'Yes'\n",
    "        elif x in ['N','No','no','n']:\n",
    "            return 'No'\n",
    "        else:\n",
    "            return np.nan\n",
    "        \n",
    "    for col in bool_cols:\n",
    "        data_to_clean[col] = data_to_clean[col].apply(lambda x : clean_bool_value(x))\n",
    "    data_cleaned = data_to_clean.copy()\n",
    "    \n",
    "    return data_cleaned\n",
    "        "
   ]
  },
  {
   "cell_type": "code",
   "execution_count": 11,
   "metadata": {
    "scrolled": true
   },
   "outputs": [
    {
     "name": "stdout",
     "output_type": "stream",
     "text": [
      "Replaced 4 illegal values of 'Bin #' column with Nan\n",
      "Replaced 0 illegal values of 'Job #' column with Nan\n",
      "Replaced 0 illegal values of 'Job doc. #' column with Nan\n",
      "Replaced 506 illegal values of 'Block' column with Nan\n",
      "Replaced 533 illegal values of 'Lot' column with Nan\n",
      "Replaced 0 illegal values of 'PERMIT_SI_NO' column with Nan\n",
      "Replaced 0 illegal values of 'Permit Sequence #' column with Nan\n",
      "Replaced 4766 illegal values of 'Community Board' column with Nan\n",
      "Replaced 54477 illegal values of 'Bldg Type' column with Nan\n",
      "Replaced 12258 illegal values of 'COUNCIL_DISTRICT' column with Nan\n",
      "Replaced 12258 illegal values of 'CENSUS_TRACT' column with Nan\n",
      "Replaced 241025 illegal values of 'Permittee's License #' column with Nan\n",
      "Replaced 59218 illegal values of 'Owner's Phone #' column with Nan\n",
      "Replaced 18006 illegal values of 'Permittee's Phone #' column with Nan\n",
      "Replaced 71598 illegal values of 'Owner’s House Zip Code' column with Nan\n",
      "Replaced 2281 illegal values of 'Zip Code' column with Nan\n"
     ]
    }
   ],
   "source": [
    "data_df = clean_numeric_columns(data_cleaned,num_cols,float_cols,cell_no_cols,zip_cols)"
   ]
  },
  {
   "cell_type": "code",
   "execution_count": 12,
   "metadata": {},
   "outputs": [],
   "source": [
    "data_df = clean_bool_cols(data_df,bool_cols)"
   ]
  },
  {
   "cell_type": "code",
   "execution_count": 15,
   "metadata": {},
   "outputs": [],
   "source": [
    "data_df['Residential'].fillna(\"No\",inplace=True)"
   ]
  },
  {
   "cell_type": "code",
   "execution_count": 16,
   "metadata": {},
   "outputs": [],
   "source": [
    "data_df.to_csv('data_cleaned.csv')"
   ]
  },
  {
   "cell_type": "code",
   "execution_count": null,
   "metadata": {},
   "outputs": [],
   "source": []
  }
 ],
 "metadata": {
  "kernelspec": {
   "display_name": "Python 3",
   "language": "python",
   "name": "python3"
  },
  "language_info": {
   "codemirror_mode": {
    "name": "ipython",
    "version": 3
   },
   "file_extension": ".py",
   "mimetype": "text/x-python",
   "name": "python",
   "nbconvert_exporter": "python",
   "pygments_lexer": "ipython3",
   "version": "3.7.2"
  }
 },
 "nbformat": 4,
 "nbformat_minor": 2
}
